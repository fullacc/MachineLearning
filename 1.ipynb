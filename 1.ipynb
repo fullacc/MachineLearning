{
 "cells": [
  {
   "cell_type": "code",
   "execution_count": 6,
   "metadata": {},
   "outputs": [
    {
     "name": "stdout",
     "output_type": "stream",
     "text": [
      "[nan nan nan nan nan nan nan nan nan nan nan nan nan nan nan nan nan nan\n",
      " nan nan nan nan]\n"
     ]
    },
    {
     "name": "stderr",
     "output_type": "stream",
     "text": [
      "C:\\Users\\Stas\\Anaconda3\\lib\\site-packages\\ipykernel_launcher.py:18: RuntimeWarning: invalid value encountered in double_scalars\n"
     ]
    }
   ],
   "source": [
    "import re\n",
    "import numpy as np\n",
    "import scipy.spatial.distance\n",
    "import math\n",
    "obj=open(\"sentences.txt\",\"r\")\n",
    "obj = obj.readlines()\n",
    "words = []\n",
    "worddict = {}\n",
    "sentlist = []\n",
    "index = 0\n",
    "n = 0\n",
    "def cosine_distance(x, y):\n",
    "    product = step1 = step2 = 0\n",
    "    for i in range(len(x)):\n",
    "        product += x[i]*y[i]\n",
    "        step1 += x[i]**2\n",
    "        step2 += y[i]**2\n",
    "    return 1-product/int(math.sqrt(step1*step2))\n",
    "for line in obj:\n",
    "    line = line.lower()\n",
    "    temp = re.split('[^a-z]',line)\n",
    "    sentlist.append(temp)\n",
    "    for x in temp:\n",
    "        if x and x not in words:\n",
    "            words.append(x)\n",
    "worddict = dict(enumerate(words))\n",
    "n = len(sentlist)\n",
    "d = len(worddict)\n",
    "a = np.zeros(shape=(n,d))\n",
    "\n",
    "for i in range(n):\n",
    "    for j in range(d):\n",
    "        a[i][j]=sentlist.count(worddict[j])\n",
    "result=[]\n",
    "for i in range(n):\n",
    "    result.append(cosine_distance(a[0], a[i]))\n",
    "result = np.array(result) \n",
    "print (result)"
   ]
  },
  {
   "cell_type": "code",
   "execution_count": null,
   "metadata": {},
   "outputs": [],
   "source": []
  },
  {
   "cell_type": "code",
   "execution_count": null,
   "metadata": {},
   "outputs": [],
   "source": []
  }
 ],
 "metadata": {
  "kernelspec": {
   "display_name": "Python 3",
   "language": "python",
   "name": "python3"
  },
  "language_info": {
   "codemirror_mode": {
    "name": "ipython",
    "version": 3
   },
   "file_extension": ".py",
   "mimetype": "text/x-python",
   "name": "python",
   "nbconvert_exporter": "python",
   "pygments_lexer": "ipython3",
   "version": "3.6.5"
  }
 },
 "nbformat": 4,
 "nbformat_minor": 2
}
